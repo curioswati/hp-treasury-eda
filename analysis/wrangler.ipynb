{
 "cells": [
  {
   "cell_type": "code",
   "execution_count": 1,
   "metadata": {},
   "outputs": [],
   "source": [
    "import os\n",
    "import sys\n",
    "module_paths = [os.path.abspath(os.path.join(path)) for path in ['.', '..']]\n",
    "for module_path in module_paths:\n",
    "    if module_path not in sys.path:\n",
    "        sys.path.append(module_path)"
   ]
  },
  {
   "cell_type": "code",
   "execution_count": 2,
   "metadata": {
    "collapsed": true
   },
   "outputs": [
    {
     "ename": "ImportError",
     "evalue": "No module named 'scraper.settings'",
     "output_type": "error",
     "traceback": [
      "\u001b[0;31m---------------------------------------------------------------------------\u001b[0m",
      "\u001b[0;31mImportError\u001b[0m                               Traceback (most recent call last)",
      "\u001b[0;32m<ipython-input-2-db0f33ba3d29>\u001b[0m in \u001b[0;36m<module>\u001b[0;34m()\u001b[0m\n\u001b[1;32m      1\u001b[0m \u001b[0;32mimport\u001b[0m \u001b[0mre\u001b[0m\u001b[0;34m\u001b[0m\u001b[0m\n\u001b[1;32m      2\u001b[0m \u001b[0;32mimport\u001b[0m \u001b[0mpandas\u001b[0m \u001b[0;32mas\u001b[0m \u001b[0mpd\u001b[0m\u001b[0;34m\u001b[0m\u001b[0m\n\u001b[0;32m----> 3\u001b[0;31m \u001b[0;32mfrom\u001b[0m \u001b[0mscraper\u001b[0m\u001b[0;34m.\u001b[0m\u001b[0msettings\u001b[0m \u001b[0;32mimport\u001b[0m \u001b[0mPROJECT_PATH\u001b[0m\u001b[0;34m\u001b[0m\u001b[0m\n\u001b[0m\u001b[1;32m      4\u001b[0m \u001b[0;32mimport\u001b[0m \u001b[0mwrangler\u001b[0m\u001b[0;34m\u001b[0m\u001b[0m\n\u001b[1;32m      5\u001b[0m \u001b[0;32mimport\u001b[0m \u001b[0mnumpy\u001b[0m \u001b[0;32mas\u001b[0m \u001b[0mnp\u001b[0m\u001b[0;34m\u001b[0m\u001b[0m\n",
      "\u001b[0;31mImportError\u001b[0m: No module named 'scraper.settings'"
     ]
    }
   ],
   "source": [
    "import re\n",
    "import pandas as pd\n",
    "from scraper.settings import PROJECT_PATH\n",
    "import wrangler\n",
    "import numpy as np\n",
    "import glob"
   ]
  },
  {
   "cell_type": "code",
   "execution_count": null,
   "metadata": {},
   "outputs": [],
   "source": [
    "# global vars\n",
    "datasets_path = os.path.normpath(os.path.join(PROJECT_PATH, '../datasets'))"
   ]
  },
  {
   "cell_type": "code",
   "execution_count": null,
   "metadata": {},
   "outputs": [],
   "source": [
    "def get_filepath(filename):\n",
    "    '''\n",
    "    given a filename, the function returns it's filepath joining with datasets dir.\n",
    "    '''\n",
    "    return os.path.join(datasets_path, filename)"
   ]
  },
  {
   "cell_type": "code",
   "execution_count": null,
   "metadata": {},
   "outputs": [],
   "source": [
    "def get_normalized_expenditure_dataframe(filename):\n",
    "    '''\n",
    "    given a filename, the function does following:\n",
    "        - add a YEAR column\n",
    "        - remove Grand Total row because it has redundant data.\n",
    "        - fill empty rows with forward fill method.\n",
    "    '''\n",
    "    df = pd.read_csv(filename)\n",
    "    \n",
    "    # set year column\n",
    "    df['YEAR'] = re.findall(r'\\d{4}', filename)[0]\n",
    "\n",
    "    # reset the index\n",
    "    df = df.reset_index()\n",
    "    \n",
    "    # select the columns which have empty values and forward fill them.\n",
    "    cols = [col for col in df.columns if col not in ['SOEDESC', 'BILLS', 'GROSS', 'AGDED', 'BTDED', 'NETPAYMENT', 'YEAR']]\n",
    "    df[cols] = df[cols].replace(r'^\\s+$', np.nan, regex=True)\n",
    "    df[cols] = df[cols].ffill()\n",
    "\n",
    "    # remove row with Grand Total as it is redundant.\n",
    "    df = df[(df[:] != 'Grand Total').all(axis=1)]\n",
    "\n",
    "    return df"
   ]
  },
  {
   "cell_type": "code",
   "execution_count": null,
   "metadata": {},
   "outputs": [],
   "source": [
    "def arrange_expenditure_data():\n",
    "    '''\n",
    "    the function selects files in the datasets dir, normalize the data and creates new csvs\n",
    "    from them.\n",
    "    '''\n",
    "    def to_include(filename):\n",
    "        if re.match('.*Expend.*\\d{4}\\.csv$', filename):\n",
    "            if not filename.startswith('07') and not filename.startswith('08'):\n",
    "                return True\n",
    "\n",
    "    # list all files in datasets dir\n",
    "    all_files = os.listdir(datasets_path)\n",
    "    to_arrange_with_same_logic = filter(to_include, all_files)\n",
    "    for filename in to_arrange_with_same_logic:\n",
    "        filepath = get_filepath(filename)\n",
    "        try:\n",
    "            df = get_normalized_expenditure_dataframe(filepath)\n",
    "        except Exception as e:\n",
    "            print(filepath)\n",
    "            raise e\n",
    "\n",
    "        # save in a file with _copy appended to the original file's name.\n",
    "        to_file = '{}_copy.csv'.format(filepath.split('.csv')[0])\n",
    "        df.to_csv(to_file, index=False)"
   ]
  },
  {
   "cell_type": "code",
   "execution_count": null,
   "metadata": {},
   "outputs": [],
   "source": [
    "arrange_expenditure_data()"
   ]
  },
  {
   "cell_type": "code",
   "execution_count": null,
   "metadata": {},
   "outputs": [],
   "source": [
    "def concatenate_files(query_str):\n",
    "    '''\n",
    "    concatenate files for same query for all the years and all the treasuries.\n",
    "    '''\n",
    "    # get all the files to concatenate\n",
    "    files_to_concatenate = glob.iglob(os.path.join(datasets_path, query_str))\n",
    "    \n",
    "    if any(files_to_concatenate):\n",
    "        # prepare dataframes from all files\n",
    "        dataframes = (pd.read_csv(file, index_col=0) for file in files_to_concatenate)\n",
    "    \n",
    "        # concatenate the dataframes\n",
    "        concatenated_frames = pd.concat(dataframes, ignore_index=True)\n",
    "    \n",
    "        # construct the iterator again to get the first file's name\n",
    "        files_to_concatenate = glob.iglob(os.path.join(datasets_path, query_str))\n",
    "        to_file = next(files_to_concatenate)\n",
    "        to_filepath = get_filepath('{}.csv'.format(re.search('(.*[w|W]ise).*csv', to_file).group(1)))\n",
    "    \n",
    "        # save the concatenated dataframes to file\n",
    "        concatenated_frames.to_csv(to_filepath)"
   ]
  },
  {
   "cell_type": "code",
   "execution_count": null,
   "metadata": {},
   "outputs": [],
   "source": [
    "queries_for_concatenation = ('{0:0=2d}._Expend*copy.csv'.format(x) for x in range(1, 11))"
   ]
  },
  {
   "cell_type": "code",
   "execution_count": null,
   "metadata": {},
   "outputs": [],
   "source": [
    "for query in queries_for_concatenation:\n",
    "    concatenate_files(query)"
   ]
  }
 ],
 "metadata": {
  "kernelspec": {
   "display_name": "Python 3",
   "language": "python",
   "name": "python3"
  },
  "language_info": {
   "codemirror_mode": {
    "name": "ipython",
    "version": 3
   },
   "file_extension": ".py",
   "mimetype": "text/x-python",
   "name": "python",
   "nbconvert_exporter": "python",
   "pygments_lexer": "ipython3",
   "version": "3.5.2"
  }
 },
 "nbformat": 4,
 "nbformat_minor": 2
}
