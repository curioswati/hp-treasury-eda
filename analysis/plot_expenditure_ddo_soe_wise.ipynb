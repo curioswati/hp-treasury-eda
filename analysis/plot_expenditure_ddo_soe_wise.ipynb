{
 "cells": [
  {
   "cell_type": "code",
   "execution_count": null,
   "metadata": {},
   "outputs": [],
   "source": [
    "import matplotlib.pyplot as plt\n",
    "import numpy as np\n",
    "import pandas as pd\n",
    "from matplotlib.ticker import ScalarFormatter"
   ]
  },
  {
   "cell_type": "code",
   "execution_count": null,
   "metadata": {},
   "outputs": [],
   "source": [
    "import utils"
   ]
  },
  {
   "cell_type": "code",
   "execution_count": null,
   "metadata": {},
   "outputs": [],
   "source": [
    "file = utils.get_filepath('01._Expenditure_-_DDO_and_SOE_Wise.csv')\n",
    "df = pd.read_csv(file, index_col='START_DATE', parse_dates=True)"
   ]
  },
  {
   "cell_type": "code",
   "execution_count": null,
   "metadata": {},
   "outputs": [],
   "source": [
    "df = df.drop('Unnamed: 0', axis=1)\n",
    "df['SOEDESC'] = df['SOEDESC'].astype('category')"
   ]
  },
  {
   "cell_type": "code",
   "execution_count": null,
   "metadata": {},
   "outputs": [],
   "source": [
    "k17_df = df['2017']\n",
    "totals_df = k17_df[k17_df['SOEDESC'] == 'Total']"
   ]
  },
  {
   "cell_type": "code",
   "execution_count": null,
   "metadata": {},
   "outputs": [],
   "source": [
    "plot_title = ' '.join(file.split('/')[-1].split('_')).split('.csv')[0]\n",
    "\n",
    "# create the bar plot with the different sections of amount on yaxis and gross on x.\n",
    "# it's a stacked bar.\n",
    "ax = totals_df.plot(kind='bar', x='DDODESC', y=['AGDED', 'BTDED', 'NETPAYMENT'],\n",
    "                    stacked=True, figsize=(20,8), linewidth=5)\n",
    "\n",
    "plt.title(plot_title, fontsize=19, fontweight='bold')\n",
    "\n",
    "# the difference of values is huge and that supress all other columns in fron of the largest\n",
    "# so normalize the y axis with log.\n",
    "plt.yscale('log')\n",
    "\n",
    "# set ticks by extracting the DDO names from DDODESC string.\n",
    "ax.set_xticklabels([x.get_text().split()[-1].title() for x in ax.get_xticklabels()], fontsize=10)\n",
    "\n",
    "ax.set_xlabel('DDO Names', fontsize=18, fontweight='bold')\n",
    "\n",
    "# set formatter for axis so that we can apply formatter properties\n",
    "ax.yaxis.set_major_formatter(ScalarFormatter())\n",
    "# set scientific notation to false, because after scaling y axis with log we have exponential ticks on y axis.\n",
    "ax.get_yaxis().get_major_formatter().set_scientific(False)\n",
    "\n",
    "# format yticks appropriately to show amounts in thousands.\n",
    "ax.set_yticklabels(list(map(utils.make_readable_amount, ax.get_yticks())))\n",
    "\n",
    "ax.set_ylabel('Amount (in Rupees)', fontsize=18, fontweight='bold')\n",
    "\n",
    "plt.show()"
   ]
  }
 ],
 "metadata": {
  "kernelspec": {
   "display_name": "Python 3",
   "language": "python",
   "name": "python3"
  },
  "language_info": {
   "codemirror_mode": {
    "name": "ipython",
    "version": 3
   },
   "file_extension": ".py",
   "mimetype": "text/x-python",
   "name": "python",
   "nbconvert_exporter": "python",
   "pygments_lexer": "ipython3",
   "version": "3.5.2"
  }
 },
 "nbformat": 4,
 "nbformat_minor": 2
}
